{
 "cells": [
  {
   "cell_type": "code",
   "execution_count": 3,
   "metadata": {},
   "outputs": [],
   "source": [
    "import pandas as pd\n",
    "edge_str = pd.read_csv('edge_before.csv',encoding='utf-8')\n",
    "edge_str.shape\n",
    "\n",
    "Source = edge_str['Source'].tolist()\n",
    "Target = edge_str['Target'].tolist()\n",
    "co = Source + Target\n",
    "co =list(set(co))\n",
    "\n",
    "node_str = pd.read_csv('node_before.csv',encoding='utf-8')\n",
    "#node_str\n",
    "\n",
    "node_str=node_str[node_str['Label'].isin(co)]\n",
    "node_str['id']=node_str['Label']\n",
    "node_str = node_str[['id','Label','Weight']] # 调整列顺序\n",
    "#node_str\n",
    "\n",
    "node_str.to_csv(path_or_buf=\"node_before2.csv\", index=False) # 写入csv文件\n",
    "\n",
    "edge_str = pd.read_csv('edge_after.csv',encoding='utf-8')\n",
    "edge_str.shape\n",
    "\n",
    "Source = edge_str['Source'].tolist()\n",
    "Target = edge_str['Target'].tolist()\n",
    "co = Source + Target\n",
    "co =list(set(co))\n",
    "\n",
    "node_str = pd.read_csv('node_after.csv',encoding='utf-8')\n",
    "#node_str\n",
    "\n",
    "node_str=node_str[node_str['Label'].isin(co)]\n",
    "node_str['id']=node_str['Label']\n",
    "node_str = node_str[['id','Label','Weight']] # 调整列顺序\n",
    "#node_str\n",
    "\n",
    "node_str.to_csv(path_or_buf=\"node_after2.csv\", index=False) # 写入csv文件"
   ]
  }
 ],
 "metadata": {
  "kernelspec": {
   "display_name": "base",
   "language": "python",
   "name": "python3"
  },
  "language_info": {
   "codemirror_mode": {
    "name": "ipython",
    "version": 3
   },
   "file_extension": ".py",
   "mimetype": "text/x-python",
   "name": "python",
   "nbconvert_exporter": "python",
   "pygments_lexer": "ipython3",
   "version": "3.9.13"
  },
  "orig_nbformat": 4,
  "vscode": {
   "interpreter": {
    "hash": "49cb93f377a7abe7414b7b0f21fb3017538004a126cf690fb524202736b7fb92"
   }
  }
 },
 "nbformat": 4,
 "nbformat_minor": 2
}
