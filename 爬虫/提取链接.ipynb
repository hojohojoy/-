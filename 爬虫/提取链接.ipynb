{
 "cells": [
  {
   "cell_type": "code",
   "execution_count": 11,
   "metadata": {},
   "outputs": [
    {
     "name": "stdout",
     "output_type": "stream",
     "text": [
      "https://www.zeit.de/suche/index?q=zukunft&type=article&type=gallery&type=video&type=author&type=manualtopic&p=2\n",
      "https://www.zeit.de/suche/index?q=zukunft&type=article&type=gallery&type=video&type=author&type=manualtopic&p=3\n"
     ]
    }
   ],
   "source": [
    "#适用于zeit.de：得到页面上新闻的链接->跳转->提取文字加入语料库\n",
    "import urllib.request, urllib.parse, urllib.error\n",
    "from bs4 import BeautifulSoup\n",
    "import csv\n",
    "\n",
    "def getNewsPage(url):\n",
    "    try:\n",
    "        #用url得到html\n",
    "        html = urllib.request.urlopen(url).read()\n",
    "\n",
    "        soup = BeautifulSoup(html,'html.parser')\n",
    "    \n",
    "        tags = soup('link')\n",
    "\n",
    "        for tag in tags:\n",
    "            link = tag.get('href') #得到链接\n",
    "            if 'p=' in link:\n",
    "                print(link)\n",
    "    except:\n",
    "        #return getNewsPage(url)\n",
    "        print('wrong')\n",
    "    \n",
    "def main():\n",
    "    url = 'https://www.zeit.de/suche/index?q=zukunft&type=article&type=gallery&type=video&type=author&type=manualtopic&p=2'\n",
    "    getNewsPage(url)\n",
    "\n",
    "main()"
   ]
  }
 ],
 "metadata": {
  "kernelspec": {
   "display_name": "base",
   "language": "python",
   "name": "python3"
  },
  "language_info": {
   "codemirror_mode": {
    "name": "ipython",
    "version": 3
   },
   "file_extension": ".py",
   "mimetype": "text/x-python",
   "name": "python",
   "nbconvert_exporter": "python",
   "pygments_lexer": "ipython3",
   "version": "3.9.13"
  },
  "orig_nbformat": 4,
  "vscode": {
   "interpreter": {
    "hash": "49cb93f377a7abe7414b7b0f21fb3017538004a126cf690fb524202736b7fb92"
   }
  }
 },
 "nbformat": 4,
 "nbformat_minor": 2
}
