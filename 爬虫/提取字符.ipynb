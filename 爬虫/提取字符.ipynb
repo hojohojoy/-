{
 "cells": [
  {
   "cell_type": "code",
   "execution_count": 8,
   "metadata": {},
   "outputs": [
    {
     "name": "stdout",
     "output_type": "stream",
     "text": [
      "var k5aMeta = {\n",
      "            \"url\": \"https://www.zeit.de/politik/deutschland/2023-03/afd-bundestagsabgeordneter-stephan-protschka-staatsanwaltschaft-landshut-ermittlungen\",\n",
      "            \"title\": \"Stephan Protschka: Staatsanwaltschaft stellt Ermittlungen gegen AfD-Abgeordneten ein\",\n",
      "            \"type\": \"article\",\n",
      "            \"section\": \"politik\",\n",
      "            \"subsection\": [\"deutschland\"],\n",
      "            \"tag\": [\"Bundestag\", \"AfD\", \"Landshut\", \"Ermittlung\", \"Fälschung\", \"Berlin\", \"Stephan Protschka\", \"Martin Strunz\", \"Moritz Küstner\", \"Tobias Timm\"],\n",
      "            \"publishtime\": \"2023-03-08T16:58:45+01:00\",\n",
      "            \"modifiedtime\": \"2023-03-08T16:58:45+01:00\",\n",
      "            \"paid\": 0,\n",
      "            \"paywall\": \"open\",\n",
      "            \"subscriber\": window.Zeit.user && window.Zeit.user.hasAbo ? 1 : 0,\n",
      "            \"login\": window.Zeit.user && window.Zeit.user.ssoid ? 1 : 0,\n",
      "            \"cntTag\": [\"Paywall-Open\", \"Online\"],\n",
      "        }\n"
     ]
    }
   ],
   "source": [
    "import os\n",
    "import csv\n",
    "\n",
    "def writeToCSV(text):\n",
    "    #先从字符串中提取信息，再写入csv文件\n",
    "    begin=text.find('\"url\"')\n",
    "    end=text.find('\"title\"')\n",
    "    url=text[begin+8:end-15]\n",
    "    begin=text.find('\"title\"')\n",
    "    end=text.find('\"type\"')\n",
    "    title=text[begin+10:end-15]\n",
    "    begin=text.find('\"tag\"')\n",
    "    end=text.find('\"publishtime\"')\n",
    "    tag=text[begin+8:end-15]\n",
    "\n",
    "    print(title,url,tag)\n",
    "\n",
    "s=     '''var k5aMeta = {\n",
    "            \"url\": \"https://www.zeit.de/politik/deutschland/2023-03/afd-bundestagsabgeordneter-stephan-protschka-staatsanwaltschaft-landshut-ermittlungen\",\n",
    "            \"title\": \"Stephan Protschka: Staatsanwaltschaft stellt Ermittlungen gegen AfD-Abgeordneten ein\",\n",
    "            \"type\": \"article\",\n",
    "            \"section\": \"politik\",\n",
    "            \"subsection\": [\"deutschland\"],\n",
    "            \"tag\": [\"Bundestag\", \"AfD\", \"Landshut\", \"Ermittlung\", \"F\\u00e4lschung\", \"Berlin\", \"Stephan Protschka\", \"Martin Strunz\", \"Moritz K\\u00fcstner\", \"Tobias Timm\"],\n",
    "            \"publishtime\": \"2023-03-08T16:58:45+01:00\",\n",
    "            \"modifiedtime\": \"2023-03-08T16:58:45+01:00\",\n",
    "            \"paid\": 0,\n",
    "            \"paywall\": \"open\",\n",
    "            \"subscriber\": window.Zeit.user && window.Zeit.user.hasAbo ? 1 : 0,\n",
    "            \"login\": window.Zeit.user && window.Zeit.user.ssoid ? 1 : 0,\n",
    "            \"cntTag\": [\"Paywall-Open\", \"Online\"],\n",
    "        }'''\n",
    "print(s)\n"
   ]
  }
 ],
 "metadata": {
  "kernelspec": {
   "display_name": "base",
   "language": "python",
   "name": "python3"
  },
  "language_info": {
   "codemirror_mode": {
    "name": "ipython",
    "version": 3
   },
   "file_extension": ".py",
   "mimetype": "text/x-python",
   "name": "python",
   "nbconvert_exporter": "python",
   "pygments_lexer": "ipython3",
   "version": "3.9.13"
  },
  "orig_nbformat": 4,
  "vscode": {
   "interpreter": {
    "hash": "49cb93f377a7abe7414b7b0f21fb3017538004a126cf690fb524202736b7fb92"
   }
  }
 },
 "nbformat": 4,
 "nbformat_minor": 2
}
