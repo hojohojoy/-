{
 "cells": [
  {
   "cell_type": "code",
   "execution_count": 7,
   "metadata": {},
   "outputs": [],
   "source": [
    "#适用于谷歌新闻：得到页面上新闻的链接->跳转->再次得到链接->进入外部网站新闻页面->提取文字加入语料库\n",
    "import urllib.request, urllib.parse, urllib.error\n",
    "from bs4 import BeautifulSoup\n",
    "\n",
    "#模拟user agent\n",
    "headers = {'User-Agent': 'Mozilla/5.0 (Windows NT 6.1; WOW64) AppleWebKit/535.1 (KHTML, like Gecko) Chrome/14.0.835.163 Safari/535.1'}\n",
    "\n",
    "def getJumpPage(url):\n",
    "    #用url得到html\n",
    "    html = urllib.request.urlopen(url).read()\n",
    "\n",
    "    soup = BeautifulSoup(html,'html.parser')\n",
    "    \n",
    "    preLink=''\n",
    "    tags = soup('a')\n",
    "    for tag in tags:\n",
    "        link = tag.get('href') #得到链接\n",
    "        #排除其他链接，找到新闻页面的链接\n",
    "        if link is None:\n",
    "            continue\n",
    "        if link == preLink: #防止链接重复\n",
    "            continue\n",
    "        if link[:10] == './articles':\n",
    "            preLink = link\n",
    "            link = 'https://news.google.com/' + link[2:]\n",
    "            print(link) \n",
    "\n",
    "\n",
    "def getNewsPage(link):\n",
    "    try:\n",
    "    #用url得到html\n",
    "        html = urllib.request.urlopen(link).read()\n",
    "\n",
    "        soup = BeautifulSoup(html,'html.parser')\n",
    "    \n",
    "        tags = soup('a')\n",
    "        for tag in tags:\n",
    "            link = tag.get('href') #得到链接\n",
    "            #排除其他链接，找到新闻页面的链接\n",
    "            if link is None:\n",
    "                continue\n",
    "            if link[:4] != 'http':\n",
    "                continue\n",
    "            if 'google' in link:\n",
    "                continue\n",
    "            print(link)\n",
    "            return link #返回新闻页面的链接\n",
    "    except:\n",
    "        return getNewsPage(link)\n",
    "    \n",
    "def main():\n",
    "    url = 'https://www.google.com/search?q=%E4%BA%BA%E7%B1%BB%E5%91%BD%E8%BF%90%E5%85%B1%E5%90%8C%E4%BD%93&hl=zh-CN&sxsrf=AJOqlzU_FK7MMzvyZjrlREezoKyreQoOyg:1678269992748&source=lnms&tbm=nws&sa=X&ved=2ahUKEwixyoT2isz9AhVdpVYBHU5vBi0Q_AUoAnoECAEQBA&biw=1280&bih=681&dpr=1.5'\n",
    "    getJumpPage(url)\n",
    "    \n",
    "main()\n",
    " "
   ]
  }
 ],
 "metadata": {
  "kernelspec": {
   "display_name": "base",
   "language": "python",
   "name": "python3"
  },
  "language_info": {
   "codemirror_mode": {
    "name": "ipython",
    "version": 3
   },
   "file_extension": ".py",
   "mimetype": "text/x-python",
   "name": "python",
   "nbconvert_exporter": "python",
   "pygments_lexer": "ipython3",
   "version": "3.9.13"
  },
  "orig_nbformat": 4,
  "vscode": {
   "interpreter": {
    "hash": "49cb93f377a7abe7414b7b0f21fb3017538004a126cf690fb524202736b7fb92"
   }
  }
 },
 "nbformat": 4,
 "nbformat_minor": 2
}
